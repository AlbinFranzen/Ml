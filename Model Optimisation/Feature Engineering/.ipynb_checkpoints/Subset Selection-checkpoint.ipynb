{
 "cells": [
  {
   "cell_type": "markdown",
   "metadata": {},
   "source": [
    "# Subset Selection\n",
    "\n",
    "Subset selection are methods used to predict a model on a subset of the predictors to decrease noise and improve interpretability. \n",
    "\n",
    "## Best Subset Selection\n",
    "\n",
    "Best subset selection creates a new model for each possible subset of features and selects the best one. This works for datasets with few features but for larger datasets the amount of models become vary large due to it being equal to $2^p$. Let's implement this on the iris dataset with 4 features:\n",
    "\n"
   ]
  },
  {
   "cell_type": "code",
   "execution_count": 4,
   "metadata": {},
   "outputs": [],
   "source": [
    "#stability\n",
    "import numpy as np\n",
    "np.random.seed(42)"
   ]
  },
  {
   "cell_type": "code",
   "execution_count": 48,
   "metadata": {},
   "outputs": [],
   "source": [
    "from sklearn import datasets\n",
    "import random\n",
    "\n",
    "# import some data to play with\n",
    "iris = datasets.load_iris()\n",
    "X = iris.data\n",
    "y = iris.target"
   ]
  },
  {
   "cell_type": "code",
   "execution_count": 61,
   "metadata": {},
   "outputs": [
    {
     "name": "stdout",
     "output_type": "stream",
     "text": [
      "0: 0.5599999999999999\n",
      "1: 0.5533333333333333\n",
      "2: 0.8066666666666666\n",
      "3: 0.8800000000000001\n"
     ]
    }
   ],
   "source": [
    "from sklearn.linear_model import SGDClassifier\n",
    "from sklearn.model_selection import cross_val_score\n",
    "\n",
    "sgd_clf = SGDClassifier(random_state=42)\n",
    "\n",
    "for i in range(4):\n",
    "    temp_X = iris.data[:,i].reshape(-1,1)\n",
    "    print(str(i)+\": \" + str(cross_val_score(sgd_clf, temp_X, y, cv=10).mean()))\n",
    "    "
   ]
  },
  {
   "cell_type": "code",
   "execution_count": 67,
   "metadata": {},
   "outputs": [
    {
     "name": "stdout",
     "output_type": "stream",
     "text": [
      "01: 0.6533333333333332\n",
      "02: 0.7266666666666667\n",
      "03: 0.6933333333333334\n",
      "12: 0.7266666666666667\n",
      "13: 0.9133333333333333\n",
      "23: 0.7266666666666667\n"
     ]
    }
   ],
   "source": [
    "temp_X = np.vstack((iris.data[:,0], iris.data[:,1])).T\n",
    "print(\"01: \" + str(cross_val_score(sgd_clf, temp_X, y, cv=10).mean()))\n",
    "temp_X = np.vstack((iris.data[:,0], iris.data[:,2])).T\n",
    "print(\"02: \" + str(cross_val_score(sgd_clf, temp_X, y, cv=10).mean()))\n",
    "temp_X = np.vstack((iris.data[:,0], iris.data[:,3])).T\n",
    "print(\"03: \" + str(cross_val_score(sgd_clf, temp_X, y, cv=10).mean()))\n",
    "temp_X = np.vstack((iris.data[:,0], iris.data[:,2])).T\n",
    "print(\"12: \" + str(cross_val_score(sgd_clf, temp_X, y, cv=10).mean()))\n",
    "temp_X = np.vstack((iris.data[:,1], iris.data[:,3])).T\n",
    "print(\"13: \" + str(cross_val_score(sgd_clf, temp_X, y, cv=10).mean()))\n",
    "temp_X = np.vstack((iris.data[:,2], iris.data[:,3])).T\n",
    "print(\"23: \" + str(cross_val_score(sgd_clf, temp_X, y, cv=10).mean()))"
   ]
  },
  {
   "cell_type": "code",
   "execution_count": 69,
   "metadata": {},
   "outputs": [
    {
     "name": "stdout",
     "output_type": "stream",
     "text": [
      "012: 0.8\n",
      "013: 0.82\n",
      "023: 0.8400000000000001\n",
      "123: 0.8333333333333333\n"
     ]
    }
   ],
   "source": [
    "temp_X = np.vstack((iris.data[:,0], iris.data[:,1],iris.data[:,2])).T\n",
    "print(\"012: \" + str(cross_val_score(sgd_clf, temp_X, y, cv=10).mean()))\n",
    "temp_X = np.vstack((iris.data[:,0], iris.data[:,1],iris.data[:,3])).T\n",
    "print(\"013: \" + str(cross_val_score(sgd_clf, temp_X, y, cv=10).mean()))\n",
    "temp_X = np.vstack((iris.data[:,0], iris.data[:,2],iris.data[:,3])).T\n",
    "print(\"023: \" + str(cross_val_score(sgd_clf, temp_X, y, cv=10).mean()))\n",
    "temp_X = np.vstack((iris.data[:,1], iris.data[:,2],iris.data[:,3])).T\n",
    "print(\"123: \" + str(cross_val_score(sgd_clf, temp_X, y, cv=10).mean()))"
   ]
  },
  {
   "cell_type": "code",
   "execution_count": 70,
   "metadata": {},
   "outputs": [
    {
     "name": "stdout",
     "output_type": "stream",
     "text": [
      "0123: 0.82\n"
     ]
    }
   ],
   "source": [
    "print(\"0123: \" + str(cross_val_score(sgd_clf, X, y, cv=10).mean()))"
   ]
  },
  {
   "cell_type": "markdown",
   "metadata": {},
   "source": [
    "Using all this data we can see that the best results are produced with only using the first and third feature. Let's plot these:"
   ]
  },
  {
   "cell_type": "code",
   "execution_count": 81,
   "metadata": {},
   "outputs": [],
   "source": [
    "temp_X = np.vstack((iris.data[:,1], iris.data[:,3])).T\n",
    "X1_good = temp_X[:50]\n",
    "X2_good = temp_X[50:100]\n",
    "X3_good = temp_X[100:150]\n",
    "\n",
    "temp_X = np.vstack((iris.data[:,0], iris.data[:,1])).T\n",
    "X1_bad = temp_X[:50]\n",
    "X2_bad = temp_X[50:100]\n",
    "X3_bad = temp_X[100:150]"
   ]
  },
  {
   "cell_type": "code",
   "execution_count": 82,
   "metadata": {},
   "outputs": [
    {
     "data": {
      "image/png": "[encoded data removed]",
      "text/plain": [
       "<Figure size 720x360 with 2 Axes>"
      ]
     },
     "metadata": {
      "needs_background": "light"
     },
     "output_type": "display_data"
    }
   ],
   "source": [
    "fig, axes = plt.subplots(nrows=1, ncols=2, figsize=(10, 5))\n",
    "\n",
    "axes[0].scatter(X1_good[:,0],X1_good[:,1],color=\"r\",alpha=0.3)\n",
    "axes[0].scatter(X2_good[:,0],X2_good[:,1],color=\"g\",alpha=0.3)\n",
    "axes[0].scatter(X3_good[:,0],X3_good[:,1],color=\"b\",alpha=0.3)\n",
    "axes[0].set_title(\"Feature 1 and 3\")\n",
    "\n",
    "axes[1].scatter(X1_bad[:,0],X1_bad[:,1],color=\"r\",alpha=0.3)\n",
    "axes[1].scatter(X2_bad[:,0],X2_bad[:,1],color=\"g\",alpha=0.3)\n",
    "axes[1].scatter(X3_bad[:,0],X3_bad[:,1],color=\"b\",alpha=0.3)\n",
    "axes[1].set_title(\"Feature 0 and 1\")\n",
    "\n",
    "fig.tight_layout()\n",
    "plt.show()"
   ]
  },
  {
   "cell_type": "markdown",
   "metadata": {},
   "source": [
    "We can see that feature 1 and 3 produce a very good separation of classes wheras feature 0 and 1 produce worse ones.\n",
    "\n",
    "## Stepwise Selection\n",
    "\n",
    "For datasets with many features best subset selection isn't very practical so iterative stepwise selection can be used instead."
   ]
  },
  {
   "cell_type": "code",
   "execution_count": null,
   "metadata": {},
   "outputs": [],
   "source": []
  }
 ],
 "metadata": {
  "kernelspec": {
   "display_name": "Python 3",
   "language": "python",
   "name": "python3"
  },
  "language_info": {
   "codemirror_mode": {
    "name": "ipython",
    "version": 3
   },
   "file_extension": ".py",
   "mimetype": "text/x-python",
   "name": "python",
   "nbconvert_exporter": "python",
   "pygments_lexer": "ipython3",
   "version": "3.7.5"
  }
 },
 "nbformat": 4,
 "nbformat_minor": 4
}
