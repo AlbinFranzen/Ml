{
 "cells": [
  {
   "cell_type": "markdown",
   "metadata": {},
   "source": [
    "# Gradient Descent\n",
    "\n",
    "Gradient descent is an iterative algorithm to find the optimal parameters for a certain task. It works by calculating the gradient at point A then moving a learning step $\\eta$ times the gradient to point B. Eventually this will converge to a minimum since the steps become closer to 0 when the gradient gets closer to 0.\n",
    "\n",
    "We will implement gradient descent on the parameters for [Simple Linear Regression](https://github.com/AlbinFranzen/Machine-Learning-Portfolio/blob/master/ML%20algorithms%20from%20scratch/Supervised%20Learning/Regression/Simple%20Linear%20Regression.ipynb):"
   ]
  },
  {
   "cell_type": "code",
   "execution_count": 34,
   "metadata": {},
   "outputs": [],
   "source": [
    "# to make this notebook's output stable across runs\n",
    "import numpy as np\n",
    "np.random.seed(42)\n",
    "\n",
    "# To plot pretty figures\n",
    "%matplotlib inline\n",
    "import matplotlib as mpl\n",
    "import matplotlib.pyplot as plt\n",
    "mpl.rc('axes', labelsize=14)\n",
    "mpl.rc('xtick', labelsize=12)\n",
    "mpl.rc('ytick', labelsize=12)"
   ]
  },
  {
   "cell_type": "code",
   "execution_count": 35,
   "metadata": {},
   "outputs": [],
   "source": [
    "X = 2 * np.random.rand(100,1)\n",
    "y = 4 + 3 * X + np.random.randn(100,1)"
   ]
  },
  {
   "cell_type": "code",
   "execution_count": 36,
   "metadata": {},
   "outputs": [
    {
     "data": {
      "image/png": "[encoded data removed]",
      "text/plain": [
       "<Figure size 432x288 with 1 Axes>"
      ]
     },
     "metadata": {
      "needs_background": "light"
     },
     "output_type": "display_data"
    }
   ],
   "source": [
    "%matplotlib inline\n",
    "import matplotlib as mpl\n",
    "import matplotlib.pyplot as plt\n",
    "\n",
    "plt.plot(X, y, \"b.\")\n",
    "plt.xlabel(\"$x$\", fontsize=18)\n",
    "plt.ylabel(\"$y$\", rotation=0, fontsize=18)\n",
    "plt.axis([0, 2, 0, 15])\n",
    "plt.show()"
   ]
  },
  {
   "cell_type": "markdown",
   "metadata": {},
   "source": [
    "## Batch Gradient Descent\n",
    "\n",
    "With batch gradient descent we calculate all the gradients for all the instances and move so that the error is minimised. We will use the [MSE](https://github.com/AlbinFranzen/Machine-Learning-Portfolio/blob/master/ML%20algorithms%20from%20scratch/Model%20Optimisation/Model%20Assessment/Regression%20Metrics.ipynb) as our metric. Lets calculate the gradient for the MSE with respect to each theta in our linear regression:\n",
    "\n",
    "\\begin{equation*}\n",
    "\\frac{\\partial}{\\partial \\theta_j}\\text{MSE}(\\theta) = \\frac{2}{m}\\sum^{m}_{i=1}(\\hat{y}_i-y_i)x_i\n",
    "\\end{equation*}\n",
    "\n",
    "Or in matrix form:\n",
    "\n",
    "\\begin{equation*}\n",
    "\\nabla_\\theta \\text{MSE}(\\theta) = \\frac{2}{m}X^T(X\\theta-y)\n",
    "\\end{equation*}\n",
    "\n",
    "The gradient descent step is defined as follows:\n",
    "\n",
    "\\begin{equation*}\n",
    "\\theta_{n+1} = \\theta_n - \\eta \\nabla_\\theta \\text{MSE}(\\theta)\n",
    "\\end{equation*}\n",
    "\n",
    "Now we implement it:"
   ]
  },
  {
   "cell_type": "code",
   "execution_count": 51,
   "metadata": {},
   "outputs": [
    {
     "data": {
      "text/plain": [
       "array([[4.21509616],\n",
       "       [2.77011339]])"
      ]
     },
     "execution_count": 51,
     "metadata": {},
     "output_type": "execute_result"
    }
   ],
   "source": [
    "eta = 0.1 #learning rate\n",
    "n_iterations = 1000\n",
    "m = 100\n",
    "\n",
    "X_b = np.c_[ np.ones(( 100, 1)), X] # add bias vector of 1s\n",
    "\n",
    "thetas = np.random.randn(2,1) #random initialisation\n",
    "for iteration in range(n_iterations):\n",
    "    gradients = 2/m * X_b.T.dot(X_b.dot(thetas) - y)\n",
    "    thetas -= eta * gradients\n",
    "thetas"
   ]
  },
  {
   "cell_type": "markdown",
   "metadata": {},
   "source": [
    "We can see that our values for theta are correct and minimises the MSE! \n",
    "\n",
    "## Stochastic Gradient Descent\n",
    "\n",
    "Instead of training gradient descent on all instances we can randomly select one to and move according to that gradient. Additionally we will minimise the learning rate each step according to the learning schedule function so that we converge more precisely the more that has been explored. For the gradient we also don't need to divide by m:"
   ]
  },
  {
   "cell_type": "code",
   "execution_count": 53,
   "metadata": {},
   "outputs": [
    {
     "data": {
      "text/plain": [
       "array([[4.21076011],\n",
       "       [2.74856079]])"
      ]
     },
     "execution_count": 53,
     "metadata": {},
     "output_type": "execute_result"
    }
   ],
   "source": [
    "np.random.seed(42)\n",
    "n_epochs = 50\n",
    "t0, t1 = 5, 50 #learning schedule parameter\n",
    "\n",
    "def learning_schedule(t):\n",
    "    return t0/(t+t1)\n",
    "\n",
    "thetas = np.random.randn(2,1) #random initialisation\n",
    "\n",
    "for epoch in range(n_epochs):\n",
    "    for i in range(m):\n",
    "        random_index = np.random.randint(m)\n",
    "        x_i = X_b[random_index:random_index+1]\n",
    "        y_i = y[random_index:random_index+1]\n",
    "        gradients = 2 * x_i.T.dot(x_i.dot(thetas) - y_i)\n",
    "        eta = learning_schedule(epoch*m + i)\n",
    "        thetas -= eta * gradients\n",
    "thetas"
   ]
  },
  {
   "cell_type": "markdown",
   "metadata": {},
   "source": [
    "As you can see we weren't far off despite only using 50 epochs.\n",
    "\n",
    "## Mini-batch Gradient Descent\n",
    "\n",
    "We can combine BGD and SGD using mini-batch gradient descent which selects small random subset of the instances each epoch and does batch gradient descent on those."
   ]
  },
  {
   "cell_type": "code",
   "execution_count": null,
   "metadata": {},
   "outputs": [],
   "source": []
  }
 ],
 "metadata": {
  "kernelspec": {
   "display_name": "Python 3",
   "language": "python",
   "name": "python3"
  },
  "language_info": {
   "codemirror_mode": {
    "name": "ipython",
    "version": 3
   },
   "file_extension": ".py",
   "mimetype": "text/x-python",
   "name": "python",
   "nbconvert_exporter": "python",
   "pygments_lexer": "ipython3",
   "version": "3.7.5"
  }
 },
 "nbformat": 4,
 "nbformat_minor": 4
}
