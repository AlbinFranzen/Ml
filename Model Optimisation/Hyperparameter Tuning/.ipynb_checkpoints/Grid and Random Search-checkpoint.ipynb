{
 "cells": [
  {
   "cell_type": "markdown",
   "metadata": {},
   "source": [
    "# Search Methods\n",
    "\n",
    "Suppose we have a model with different hyperparameters that need to be determined. To find the optimal values of these hyperparameters grid search and random search can be used. \n",
    "\n",
    "## Grid Search\n",
    "\n",
    "Grid search involves creating a grid of values to search through. However this can be computationally heavy. For two variables a grid can look like:"
   ]
  },
  {
   "cell_type": "code",
   "execution_count": 1,
   "metadata": {},
   "outputs": [],
   "source": [
    "import numpy as np\n",
    "np.random.seed(42)"
   ]
  },
  {
   "cell_type": "code",
   "execution_count": 6,
   "metadata": {},
   "outputs": [
    {
     "name": "stdout",
     "output_type": "stream",
     "text": [
      "[[0 1 2 3 4]\n",
      " [0 1 2 3 4]\n",
      " [0 1 2 3 4]\n",
      " [0 1 2 3 4]\n",
      " [0 1 2 3 4]]\n",
      "[[0 0 0 0 0]\n",
      " [1 1 1 1 1]\n",
      " [2 2 2 2 2]\n",
      " [3 3 3 3 3]\n",
      " [4 4 4 4 4]]\n"
     ]
    }
   ],
   "source": [
    "x = np.array([0, 1, 2, 3, 4]);\n",
    "y = np.array([0, 1, 2, 3, 4]);\n",
    "xx,yy = np.meshgrid(x,y)\n",
    "print(xx)\n",
    "print(yy)"
   ]
  },
  {
   "cell_type": "markdown",
   "metadata": {},
   "source": [
    "Now we can see that each value of x corresponds with each value of y to create a new point. This can be plotted or tested with hyperparameters"
   ]
  },
  {
   "cell_type": "markdown",
   "metadata": {},
   "source": [
    "## Random Search\n",
    "\n",
    "Random search is similar to grid search except it uses random values to search through. This is much more computationally efficient:"
   ]
  },
  {
   "cell_type": "code",
   "execution_count": 16,
   "metadata": {},
   "outputs": [
    {
     "name": "stdout",
     "output_type": "stream",
     "text": [
      "[[0.61019117 2.47588455 0.17194261 4.54660201 1.29389991]\n",
      " [0.61019117 2.47588455 0.17194261 4.54660201 1.29389991]\n",
      " [0.61019117 2.47588455 0.17194261 4.54660201 1.29389991]\n",
      " [0.61019117 2.47588455 0.17194261 4.54660201 1.29389991]\n",
      " [0.61019117 2.47588455 0.17194261 4.54660201 1.29389991]]\n",
      "[[3.31261142 3.31261142 3.31261142 3.31261142 3.31261142]\n",
      " [1.55855538 1.55855538 1.55855538 1.55855538 1.55855538]\n",
      " [2.60034011 2.60034011 2.60034011 2.60034011 2.60034011]\n",
      " [2.7335514  2.7335514  2.7335514  2.7335514  2.7335514 ]\n",
      " [0.92427228 0.92427228 0.92427228 0.92427228 0.92427228]]\n"
     ]
    }
   ],
   "source": [
    "x = 5*np.random.rand(1,5)\n",
    "y = 5*np.random.rand(1,5)\n",
    "xx,yy = np.meshgrid(x,y)\n",
    "print(xx)\n",
    "print(yy)"
   ]
  },
  {
   "cell_type": "markdown",
   "metadata": {},
   "source": [
    "Usually first a random search is used and later a grid search can search around the best random value."
   ]
  },
  {
   "cell_type": "code",
   "execution_count": null,
   "metadata": {},
   "outputs": [],
   "source": []
  }
 ],
 "metadata": {
  "kernelspec": {
   "display_name": "Python 3",
   "language": "python",
   "name": "python3"
  },
  "language_info": {
   "codemirror_mode": {
    "name": "ipython",
    "version": 3
   },
   "file_extension": ".py",
   "mimetype": "text/x-python",
   "name": "python",
   "nbconvert_exporter": "python",
   "pygments_lexer": "ipython3",
   "version": "3.7.5"
  }
 },
 "nbformat": 4,
 "nbformat_minor": 4
}
