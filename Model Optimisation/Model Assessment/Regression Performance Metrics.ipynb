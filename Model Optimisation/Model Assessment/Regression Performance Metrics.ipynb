{
 "cells": [
  {
   "cell_type": "markdown",
   "metadata": {},
   "source": [
    "# Regression Metrics\n",
    "\n",
    "In this notebook we examine different metrics used to determine the error of a model for regression tasks. Most metrics are determined from the residuals which are defined as:\n",
    "\n",
    "\\begin{equation*}\n",
    "e_i= y_i-\\hat{y}_i\n",
    "\\end{equation*}\n",
    "\n",
    "### Root Mean Squared Error\n",
    "The most commonly used metric for regression is the *Root Mean Squared Error* (RMSE) which is defined as follows:\n",
    "\n",
    "\\begin{equation*}\n",
    "RMSE = \\sqrt{\\frac{1}{n}\\sum_{i=1}^{n}e_i^{2}}\n",
    "\\end{equation*}\n",
    "\n",
    "Below we have implemented RMSE on data generated from [Linear Regression](https://github.com/AlbinFranzen/Machine-Learning-Portfolio/blob/master/ML%20algorithms%20from%20scratch/Linear%20Methods/Simple%20Linear%20Regression.ipynb)"
   ]
  },
  {
   "cell_type": "code",
   "execution_count": null,
   "metadata": {},
   "outputs": [],
   "source": [
    "import numpy as np\n",
    "np.random.seed(42)"
   ]
  },
  {
   "cell_type": "code",
   "execution_count": 9,
   "metadata": {},
   "outputs": [],
   "source": [
    "#generate the data\n",
    "X = 2 * np.random.rand(100,1)\n",
    "y = 4 + 3 * X + np.random.randn(100,1)"
   ]
  },
  {
   "cell_type": "code",
   "execution_count": 10,
   "metadata": {},
   "outputs": [
    {
     "data": {
      "text/plain": [
       "0.8915256019083877"
      ]
     },
     "execution_count": 10,
     "metadata": {},
     "output_type": "execute_result"
    }
   ],
   "source": [
    "from sklearn.linear_model import LinearRegression\n",
    "\n",
    "lin_reg = LinearRegression() #apply model and make predictions\n",
    "lin_reg.fit(X, y)\n",
    "y_pred = lin_reg.predict(X)\n",
    "\n",
    "residuals = y_pred - y #calculate residuals\n",
    "root_mean_squared_error = np.sqrt(1/len(y)*np.sum(residuals**2)) #RMSE formula\n",
    "root_mean_squared_error"
   ]
  },
  {
   "cell_type": "markdown",
   "metadata": {},
   "source": [
    "### Mean Absolute Error\n",
    "\n",
    "The RMSE allows for convex solutions to many problems which is why it is generally preffered. Another metric that can be used is the *Mean Absolute Error* (MAE):\n",
    "\n",
    "\\begin{equation*}\n",
    "MAE = \\frac{1}{n}\\sum_{i=1}^{n}|e_i|\n",
    "\\end{equation*}\n",
    "\n",
    "We implement it below:"
   ]
  },
  {
   "cell_type": "code",
   "execution_count": 11,
   "metadata": {},
   "outputs": [
    {
     "data": {
      "text/plain": [
       "0.7036701730509569"
      ]
     },
     "execution_count": 11,
     "metadata": {},
     "output_type": "execute_result"
    }
   ],
   "source": [
    "mean_absolute_error = 1/len(y)*np.sum(abs(residuals)) #MAE formula\n",
    "mean_absolute_error"
   ]
  },
  {
   "cell_type": "markdown",
   "metadata": {},
   "source": [
    "Both the RMSE and MAE can be used to measure distances between vectors. Various distance measures or *norms* can be used to do this:\n",
    "\n",
    "- The MAE is part of the l1 norm which is called *Manhattan norm* because it is the average residual\n",
    "\n",
    "- The RMSE is part of the l1 norm which is called *Euclidian norm* because it is the square root of the average square of residuals\n",
    "\n",
    "- Generally an l_k norm is nth root of the average n-exponent of residuals\n",
    "\n",
    "- Higher norm indexes focus more on large values and neglect small ones due to the exponents giving outliers more weight. RMSE is therefore ussually a reasonable choice as a prediction metric"
   ]
  },
  {
   "cell_type": "code",
   "execution_count": null,
   "metadata": {},
   "outputs": [],
   "source": []
  }
 ],
 "metadata": {
  "kernelspec": {
   "display_name": "Python 3",
   "language": "python",
   "name": "python3"
  },
  "language_info": {
   "codemirror_mode": {
    "name": "ipython",
    "version": 3
   },
   "file_extension": ".py",
   "mimetype": "text/x-python",
   "name": "python",
   "nbconvert_exporter": "python",
   "pygments_lexer": "ipython3",
   "version": "3.7.5"
  }
 },
 "nbformat": 4,
 "nbformat_minor": 4
}
