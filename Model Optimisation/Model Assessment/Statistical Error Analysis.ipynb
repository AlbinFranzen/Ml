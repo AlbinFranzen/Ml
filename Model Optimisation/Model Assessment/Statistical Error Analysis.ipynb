{
 "cells": [
  {
   "cell_type": "markdown",
   "metadata": {},
   "source": [
    "# Statistical Error Analysis\n",
    "\n",
    "In this notebook we will be examining error from a linear model using statistical methods.\n",
    "\n",
    "## Mean\n",
    "\n",
    "The mean describes the average value of a set of numbers:\n",
    "\n",
    "\\begin{equation*}\n",
    "\\bar{x} = \\frac{1}{n}\\sum^{n}_{i=1}x_i\n",
    "\\end{equation*}\n",
    "\n",
    "Suppose we generate 100 random values distributed around y=8 and plot these on a graph. Lets also find the mean of the generated samples."
   ]
  },
  {
   "cell_type": "code",
   "execution_count": 2,
   "metadata": {},
   "outputs": [],
   "source": [
    "# to make this notebook's output stable across runs\n",
    "import numpy as np\n",
    "np.random.seed(42)\n",
    "\n",
    "# To plot pretty figures\n",
    "%matplotlib inline\n",
    "import matplotlib as mpl\n",
    "import matplotlib.pyplot as plt\n",
    "mpl.rc('axes', labelsize=14)\n",
    "mpl.rc('xtick', labelsize=12)\n",
    "mpl.rc('ytick', labelsize=12)"
   ]
  },
  {
   "cell_type": "code",
   "execution_count": 4,
   "metadata": {},
   "outputs": [],
   "source": [
    "X = 2 * np.random.rand(100,1)\n",
    "y = 8 + np.random.randn(100,1)"
   ]
  },
  {
   "cell_type": "code",
   "execution_count": 38,
   "metadata": {},
   "outputs": [
    {
     "data": {
      "image/png": "[encoded data removed]",
      "text/plain": [
       "<Figure size 432x288 with 1 Axes>"
      ]
     },
     "metadata": {
      "needs_background": "light"
     },
     "output_type": "display_data"
    }
   ],
   "source": [
    "%matplotlib inline\n",
    "import matplotlib as mpl\n",
    "import matplotlib.pyplot as plt\n",
    "\n",
    "plt.plot(X, y, \"b.\")\n",
    "plt.xlabel(\"$x$\", fontsize=18)\n",
    "plt.ylabel(\"$y$\", rotation=0, fontsize=18)\n",
    "plt.axis([0, 2, 0, 16])\n",
    "plt.show()"
   ]
  },
  {
   "cell_type": "code",
   "execution_count": 37,
   "metadata": {},
   "outputs": [
    {
     "data": {
      "text/plain": [
       "8.054701022284725"
      ]
     },
     "execution_count": 37,
     "metadata": {},
     "output_type": "execute_result"
    }
   ],
   "source": [
    "y_mean = y.sum()/len(y)\n",
    "y_mean"
   ]
  },
  {
   "cell_type": "markdown",
   "metadata": {},
   "source": [
    "## Standard Deviation\n",
    "\n",
    "Our data has a mean of 8.054. One important statistic that can be useful to know on average how far from the mean each instance is. This can be calculated using the standard deviation:\n",
    "\n",
    "\\begin{equation*}\n",
    "\\sigma = \\sqrt{\\frac{1}{n}\\sum^{n}_{i=1}(x_i-\\bar{x})^2}\n",
    "\\end{equation*}\n",
    "\n",
    "Here we implement it below:"
   ]
  },
  {
   "cell_type": "code",
   "execution_count": 47,
   "metadata": {},
   "outputs": [
    {
     "data": {
      "text/plain": [
       "0.9278614051951306"
      ]
     },
     "execution_count": 47,
     "metadata": {},
     "output_type": "execute_result"
    }
   ],
   "source": [
    "y_std = np.sqrt(1/len(y)*np.sum((y-y_mean)**2))\n",
    "y_std"
   ]
  },
  {
   "cell_type": "markdown",
   "metadata": {},
   "source": [
    "## Variance\n",
    "\n",
    "Variance is defined as the square of the standard deviation and it places a larger emphasis on outliers. The variance is used to determine the total spread of data wheras the standard deviation measures the \"local\" spread for each instance.\n",
    "\n",
    "## Standard error\n",
    "\n",
    "We know that the true mean is 8 and the mean generated from these 100 samples is 8.054. The question now is how accurate the mean $\\hat{\\mu}$ is to the actual $\\mu$. Or more generally if we create a $\\hat{\\mu}$ from $n$ samples how precise is our mean?\n",
    "\n",
    "This value is called the standard error and is predicted using the following formula:\n",
    "\n",
    "\\begin{equation*}\n",
    "\\text{Var}(\\hat{\\mu})= \\text{SE}(\\hat{\\mu})^2 = \\frac{\\sigma^2}{n}\n",
    "\\end{equation*}\n",
    "\n",
    "Note that the standard deviation is the standard deviation of the errors of y. Here we can see that with more samples (higher $n$) we have a smaller standard error and eventually the standard error will be zero according to the law of large numbers. Lets implement this on our data:"
   ]
  },
  {
   "cell_type": "code",
   "execution_count": 132,
   "metadata": {},
   "outputs": [
    {
     "data": {
      "text/plain": [
       "0.08065845639670532"
      ]
     },
     "execution_count": 132,
     "metadata": {},
     "output_type": "execute_result"
    }
   ],
   "source": [
    "std_error = (y-y_pred).std()**2/np.sqrt(len(y))\n",
    "std_error"
   ]
  },
  {
   "cell_type": "markdown",
   "metadata": {},
   "source": [
    "## Standard Errors for Linear Regression\n",
    "\n",
    "The actual error of the mean was 0.054 so this estimate wasn't bad! We can apply this knowledge to the [Simple Linear Regression](https://github.com/AlbinFranzen/Machine-Learning-Portfolio/blob/master/ML%20algorithms%20from%20scratch/Linear%20Methods/Simple%20Linear%20Regression.ipynb) coefficients using the following formulas:\n",
    "\n",
    "\\begin{equation*}\n",
    "\\text{SE}(\\theta_0)^2=\\sigma^2\\Bigg\\lbrack \\frac{1}{n}+\\frac{\\bar{x}^2}{\\Sigma^{n}_{i=1}(x-\\bar{x})^2}\\Bigg\\rbrack\n",
    "\\end{equation*}\n",
    "\n",
    "\\begin{equation*}\n",
    "\\text{SE}(\\theta_1)^2=\\frac{\\sigma^2}{\\Sigma^{n}_{i=1}(x-\\bar{x})^2}\n",
    "\\end{equation*}\n",
    "\n",
    "Or to make it more compact using matrices:\n",
    "\n",
    "\\begin{equation*}\n",
    "\\text{Var}(\\theta)=\\sigma^2 (X^TX)^{-1}\n",
    "\\end{equation*}\n",
    "\n",
    "However the equation above produces a variance/covariance matrix so to get the standard errors for the coefficients the square root of the diagonal needs to be taken. To estimate the standard deviation we can use the following formula:\n",
    "\n",
    "\\begin{equation*}\n",
    "\\sigma = \\sqrt{\\frac{1}{n-k}\\sum^{n}_{i=1}(x_i-\\bar{x})^2}\n",
    "\\end{equation*}\n",
    "\n",
    "Where k is the number of parameters used for Bessel's correction. Here it is implemented:"
   ]
  },
  {
   "cell_type": "code",
   "execution_count": 115,
   "metadata": {},
   "outputs": [],
   "source": [
    "np.random.seed(42)\n",
    "\n",
    "X = 2 * np.random.rand(100,1)\n",
    "y = 4 + 3 * X + np.random.randn(100,1)"
   ]
  },
  {
   "cell_type": "code",
   "execution_count": 6,
   "metadata": {},
   "outputs": [
    {
     "data": {
      "text/plain": [
       "array([0.1702866 , 0.15324729])"
      ]
     },
     "execution_count": 6,
     "metadata": {},
     "output_type": "execute_result"
    }
   ],
   "source": [
    "from sklearn.linear_model import LinearRegression\n",
    "\n",
    "lin_reg = LinearRegression() #apply model and make predictions\n",
    "lin_reg.fit(X, y)\n",
    "y_pred = lin_reg.predict(X)\n",
    "\n",
    "X_b = np.c_[ np.ones(( 100, 1)), X] #add bias vector of 1s \n",
    "\n",
    "sigma_squared = 1/(len(y)-2)*((y-y_pred)**2).sum() #find standard deviation squared\n",
    "var_cov_matrix = sigma_squared * np.linalg.inv(X_b.T.dot(X_b)) #create variance/covariance matrix\n",
    "standard_errors = np.sqrt(np.diagonal(var_cov_matrix)) #get standard errors\n",
    "\n",
    "standard_errors"
   ]
  },
  {
   "cell_type": "markdown",
   "metadata": {},
   "source": [
    "So our model coefficients have a standard error of around 0.16 which shows how accurate it thinks it could be to the actual line. Let's have a look at the coefficients:"
   ]
  },
  {
   "cell_type": "code",
   "execution_count": 129,
   "metadata": {},
   "outputs": [
    {
     "name": "stdout",
     "output_type": "stream",
     "text": [
      "[4.21509616]\n",
      "[[2.77011339]]\n"
     ]
    }
   ],
   "source": [
    "print(lin_reg.intercept_)\n",
    "print(lin_reg.coef_)"
   ]
  },
  {
   "cell_type": "markdown",
   "metadata": {},
   "source": [
    "As we can see the actual error is 0.22 and 0.23 so our standard error wasn't far off! \n",
    "\n",
    "## Confidence intervals\n",
    "\n",
    "Using the standard error we can calculate confidence intervals. An example is for linear regressions the the 95% confidence interval for $\\theta_0$ and $\\theta_1$ takes the form:\n",
    "\n",
    "\\begin{equation*}\n",
    "\\hat{\\theta}\\pm 2\\cdot \\text{SE}(\\hat{\\theta})\n",
    "\\end{equation*}\n",
    "\n",
    "This can be interpreted as a 95% chance that this confidence interval contains the best thetas for this linear regression."
   ]
  },
  {
   "cell_type": "markdown",
   "metadata": {},
   "source": [
    "# Assesing fit of a Simple Linear Regression\n",
    "\n",
    "## Residual Standard Error\n",
    "\n",
    "The residual standard error is a bit like the standard deviation and determines how far off a linear model is on average from it's estimates. Here is the formula:\n",
    "\n",
    "\\begin{equation*}\n",
    "\\text{RSE} = \\sqrt{\\frac{1}{n-k}\\sum^{n}_{i=1}(y-\\hat{y})^2}\n",
    "\\end{equation*}\n",
    "\n",
    "Here we apply it:"
   ]
  },
  {
   "cell_type": "code",
   "execution_count": 8,
   "metadata": {},
   "outputs": [
    {
     "data": {
      "text/plain": [
       "0.9072185367571413"
      ]
     },
     "execution_count": 8,
     "metadata": {},
     "output_type": "execute_result"
    }
   ],
   "source": [
    "RSE = np.sqrt(1/(len(y)-2)*((y-y_pred)**2).sum())\n",
    "RSE"
   ]
  },
  {
   "cell_type": "markdown",
   "metadata": {},
   "source": [
    "## $R^2$ statistic\n",
    "\n",
    "The RSE looks at the total error whereas the $R^2$ looks at the error relative to the proportion of variance. The formula takes the *residual sum of squares* and divides it by the *total sum of squares*. It is also subtracted from 1 to make it simpler to understand:\n",
    "\n",
    "\\begin{equation*}\n",
    "R^2 = 1-\\frac{\\text{RSS}}{\\text{TSS}}\n",
    "\\end{equation*}\n",
    "\n",
    "Lets find the $R^2$:"
   ]
  },
  {
   "cell_type": "code",
   "execution_count": 11,
   "metadata": {},
   "outputs": [
    {
     "data": {
      "text/plain": [
       "0.8991633120114795"
      ]
     },
     "execution_count": 11,
     "metadata": {},
     "output_type": "execute_result"
    }
   ],
   "source": [
    "RSS = ((y-y_pred)**2).sum()\n",
    "TSS = (y-(y-y_pred).mean()).sum()\n",
    "R_squared = 1 - RSS/TSS\n",
    "R_squared"
   ]
  },
  {
   "cell_type": "code",
   "execution_count": null,
   "metadata": {},
   "outputs": [],
   "source": []
  }
 ],
 "metadata": {
  "kernelspec": {
   "display_name": "Python 3",
   "language": "python",
   "name": "python3"
  },
  "language_info": {
   "codemirror_mode": {
    "name": "ipython",
    "version": 3
   },
   "file_extension": ".py",
   "mimetype": "text/x-python",
   "name": "python",
   "nbconvert_exporter": "python",
   "pygments_lexer": "ipython3",
   "version": "3.7.5"
  }
 },
 "nbformat": 4,
 "nbformat_minor": 4
}
