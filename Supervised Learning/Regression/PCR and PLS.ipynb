{
 "cells": [
  {
   "cell_type": "markdown",
   "metadata": {},
   "source": [
    "# Principal Components Regression\n",
    "\n",
    "PCR involves first doing [PCA](https://github.com/AlbinFranzen/Machine-Learning-Portfolio/blob/master/ML%20algorithms%20from%20scratch/Unsupervised%20Learning/Dimensionality%20Reduction/Principal%20Components%20Analysis.ipynb) on the predictors and then fitting a linear regression on the principal components:"
   ]
  },
  {
   "cell_type": "code",
   "execution_count": 51,
   "metadata": {},
   "outputs": [],
   "source": [
    "# to make this notebook's output stable across runs\n",
    "import numpy as np\n",
    "np.random.seed(42)\n",
    "\n",
    "%matplotlib inline\n",
    "import matplotlib as mpl\n",
    "import matplotlib.pyplot as plt\n",
    "from mpl_toolkits.mplot3d import Axes3D"
   ]
  },
  {
   "cell_type": "code",
   "execution_count": 52,
   "metadata": {},
   "outputs": [],
   "source": [
    "x = 2 * np.random.rand(100,1)\n",
    "y = 4 + 3 * x + np.random.randn(100,1)\n",
    "z = 3*x + y + np.random.randn(100,1)"
   ]
  },
  {
   "cell_type": "code",
   "execution_count": 54,
   "metadata": {},
   "outputs": [
    {
     "name": "stdout",
     "output_type": "stream",
     "text": [
      "Linear regression RMSE:\n"
     ]
    },
    {
     "data": {
      "text/plain": [
       "3.366464281015665"
      ]
     },
     "execution_count": 54,
     "metadata": {},
     "output_type": "execute_result"
    }
   ],
   "source": [
    "from sklearn.linear_model import LinearRegression\n",
    "lin_reg1 = LinearRegression()\n",
    "lin_reg1.fit(data, z)\n",
    "\n",
    "print(\"Linear regression RMSE:\")\n",
    "from sklearn.metrics import mean_squared_error\n",
    "y_pred = lin_reg1.predict(data)\n",
    "np.sqrt(mean_squared_error(y, y_pred))"
   ]
  },
  {
   "cell_type": "code",
   "execution_count": 43,
   "metadata": {},
   "outputs": [],
   "source": [
    "#standardised data\n",
    "data = np.hstack((x-x.mean(0),y-y.mean(0)))\n",
    "\n",
    "covariance_matrix = 1/(len(data)-1)*(data-data.mean(0)).T.dot(data-data.mean(0))\n",
    "\n",
    "eig_vals, eig_vecs = np.linalg.eig(covariance_matrix)\n",
    "w = eig_vecs[:,1]\n",
    "w = w.reshape((1,2))\n",
    "\n",
    "proj = data.dot(w.T)"
   ]
  },
  {
   "cell_type": "code",
   "execution_count": 44,
   "metadata": {},
   "outputs": [
    {
     "name": "stdout",
     "output_type": "stream",
     "text": [
      "PCR RMSE:\n"
     ]
    },
    {
     "data": {
      "text/plain": [
       "3.2676014698410176"
      ]
     },
     "execution_count": 44,
     "metadata": {},
     "output_type": "execute_result"
    }
   ],
   "source": [
    "from sklearn.linear_model import LinearRegression\n",
    "lin_reg = LinearRegression()\n",
    "lin_reg.fit(proj, z)\n",
    "\n",
    "print(\"PCR RMSE:\")\n",
    "from sklearn.metrics import mean_squared_error\n",
    "y_pred = lin_reg.predict(proj.reshape(-1,1))\n",
    "np.sqrt(mean_squared_error(y, y_pred))"
   ]
  },
  {
   "cell_type": "code",
   "execution_count": 45,
   "metadata": {},
   "outputs": [],
   "source": [
    "X = np.linspace(-5,4,100)\n",
    "y = lin_reg.predict(X.reshape(-1,1))"
   ]
  },
  {
   "cell_type": "code",
   "execution_count": 46,
   "metadata": {},
   "outputs": [
    {
     "data": {
      "image/png": "[encoded data removed]",
      "text/plain": [
       "<Figure size 432x288 with 1 Axes>"
      ]
     },
     "metadata": {
      "needs_background": "light"
     },
     "output_type": "display_data"
    }
   ],
   "source": [
    "plt.plot(X,y,color=\"r\")\n",
    "plt.scatter(proj,z,color=\"b\",alpha=0.3)\n",
    "plt.xlabel(\"1st principal component\")\n",
    "plt.ylabel(\"Z\")\n",
    "plt.show()"
   ]
  },
  {
   "cell_type": "markdown",
   "metadata": {},
   "source": [
    "As we can see in this case we got a slightly better RMSE using PCR because the PCA was able to preserve the variance very well and could reduce noise. However a drawback with PCR is that it is *unsupervised* and only attempts to preserve variance of the data, but it doesn't take into account the variance responsible for the response variable. That is where PLS comes in.\n",
    "\n",
    "# Partial Least Squares\n",
    "\n",
    "To compute partial least squares is very simple. One simply uses the values of $\\theta$ from a linear regression to create a new line after standardising the predictors:"
   ]
  },
  {
   "cell_type": "code",
   "execution_count": 55,
   "metadata": {},
   "outputs": [
    {
     "name": "stdout",
     "output_type": "stream",
     "text": [
      "[[3.08025159 0.97281755]]\n"
     ]
    }
   ],
   "source": [
    "print(lin_reg1.coef_)"
   ]
  },
  {
   "cell_type": "markdown",
   "metadata": {},
   "source": [
    "We simply use $\\theta_1$ as the loader:"
   ]
  },
  {
   "cell_type": "code",
   "execution_count": 66,
   "metadata": {},
   "outputs": [],
   "source": [
    "x = 2 * np.random.rand(100,1)\n",
    "y = 4 + 3 * x + np.random.randn(100,1)\n",
    "z = 3*x + y + np.random.randn(100,1)\n",
    "\n",
    "#standardised data\n",
    "data = np.hstack(((x-x.mean(0)),y-y.mean(0)))"
   ]
  },
  {
   "cell_type": "code",
   "execution_count": 71,
   "metadata": {},
   "outputs": [],
   "source": [
    "dim_red = (x-x.mean(0))*lin_reg1.coef_[0][1]+(y-y.mean(0))*lin_reg1.coef_[0][1]"
   ]
  },
  {
   "cell_type": "code",
   "execution_count": 72,
   "metadata": {},
   "outputs": [
    {
     "name": "stdout",
     "output_type": "stream",
     "text": [
      "PLS RMSE:\n"
     ]
    },
    {
     "data": {
      "text/plain": [
       "3.597899778813082"
      ]
     },
     "execution_count": 72,
     "metadata": {},
     "output_type": "execute_result"
    }
   ],
   "source": [
    "from sklearn.linear_model import LinearRegression\n",
    "lin_reg = LinearRegression()\n",
    "lin_reg.fit(dim_red, z)\n",
    "\n",
    "print(\"PLS RMSE:\")\n",
    "from sklearn.metrics import mean_squared_error\n",
    "y_pred = lin_reg.predict(dim_red.reshape(-1,1))\n",
    "np.sqrt(mean_squared_error(y, y_pred))"
   ]
  },
  {
   "cell_type": "code",
   "execution_count": 74,
   "metadata": {},
   "outputs": [],
   "source": [
    "X = np.linspace(-5,4,100)\n",
    "y = lin_reg.predict(X.reshape(-1,1))"
   ]
  },
  {
   "cell_type": "code",
   "execution_count": 75,
   "metadata": {},
   "outputs": [
    {
     "data": {
      "image/png": "[encoded data removed]",
      "text/plain": [
       "<Figure size 432x288 with 1 Axes>"
      ]
     },
     "metadata": {
      "needs_background": "light"
     },
     "output_type": "display_data"
    }
   ],
   "source": [
    "plt.plot(X,y,color=\"r\")\n",
    "plt.scatter(dim_red,z,color=\"b\",alpha=0.3)\n",
    "plt.xlabel(\"PLS transformed\")\n",
    "plt.ylabel(\"Z\")\n",
    "plt.show()"
   ]
  },
  {
   "cell_type": "markdown",
   "metadata": {},
   "source": [
    "In this case we got a worse RMSE because the variance in the predictors already matched with the variance in the response variable "
   ]
  },
  {
   "cell_type": "code",
   "execution_count": null,
   "metadata": {},
   "outputs": [],
   "source": []
  }
 ],
 "metadata": {
  "kernelspec": {
   "display_name": "Python 3",
   "language": "python",
   "name": "python3"
  },
  "language_info": {
   "codemirror_mode": {
    "name": "ipython",
    "version": 3
   },
   "file_extension": ".py",
   "mimetype": "text/x-python",
   "name": "python",
   "nbconvert_exporter": "python",
   "pygments_lexer": "ipython3",
   "version": "3.7.5"
  }
 },
 "nbformat": 4,
 "nbformat_minor": 4
}
